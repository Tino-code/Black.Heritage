{
  "cells": [
    {
      "cell_type": "markdown",
      "metadata": {
        "id": "to5pcyrSkehS"
      },
      "source": [
        "[![image](https://jupyterlite.rtfd.io/en/latest/_static/badge.svg)](https://demo.leafmap.org/lab/index.html?path=maplibre/maptiler_styles.ipynb)\n",
        "[![image](https://colab.research.google.com/assets/colab-badge.svg)](https://colab.research.google.com/github/opengeos/leafmap/blob/master/docs/maplibre/maptiler_styles.ipynb)\n",
        "[![image](https://mybinder.org/badge_logo.svg)](https://mybinder.org/v2/gh/opengeos/leafmap/HEAD)\n",
        "\n",
        "**Use MapTiler styles**\n",
        "\n",
        "[MapTiler](https://www.maptiler.com) has a variety of vector tile styles that can be used with MapLibre.\n",
        "\n",
        "\n",
        "Uncomment the following line to install [leafmap](https://leafmap.org) if needed."
      ]
    },
    {
      "cell_type": "code",
      "execution_count": null,
      "metadata": {
        "id": "NbGMarzAkehT"
      },
      "outputs": [],
      "source": [
        "# %pip install \"leafmap[maplibre]\""
      ]
    },
    {
      "cell_type": "code",
      "execution_count": null,
      "metadata": {
        "id": "GxjIzvJkkehU"
      },
      "outputs": [],
      "source": [
        "import leafmap.maplibregl as leafmap"
      ]
    },
    {
      "cell_type": "markdown",
      "metadata": {
        "id": "6HD7tUNTkehV"
      },
      "source": [
        "To run this notebook, you will need an [API key](https://docs.maptiler.com/cloud/api/authentication-key/) from [MapTiler](https://www.maptiler.com/cloud/). Once you have the API key, you can uncomment the following code block and replace `YOUR_API_KEY` with your actual API key. Then, run the code block code to set the API key as an environment variable."
      ]
    },
    {
      "cell_type": "code",
      "execution_count": null,
      "metadata": {
        "id": "8Vk8p2bHkehV"
      },
      "outputs": [],
      "source": [
        "# import os\n",
        "# os.environ[\"MAPTILER_KEY\"] = \"YOUR_API_KEY\""
      ]
    },
    {
      "cell_type": "markdown",
      "metadata": {
        "id": "C-lMqO4MkehW"
      },
      "source": [
        "Then, you can use any named style from MapTiler by setting the `style` parameter to the name of the style."
      ]
    },
    {
      "cell_type": "markdown",
      "metadata": {
        "id": "BcYWFk2WkehW"
      },
      "source": [
        "![](https://i.imgur.com/dp2HxR2.png)\n"
      ]
    },
    {
      "cell_type": "code",
      "execution_count": null,
      "metadata": {
        "id": "M9xjB6iQkehX"
      },
      "outputs": [],
      "source": [
        "m = leafmap.Map(style=\"streets\")\n",
        "m"
      ]
    },
    {
      "cell_type": "code",
      "execution_count": null,
      "metadata": {
        "id": "9ZXn9FpLkehY"
      },
      "outputs": [],
      "source": [
        "m = leafmap.Map(style=\"satellite\")\n",
        "m"
      ]
    },
    {
      "cell_type": "code",
      "execution_count": null,
      "metadata": {
        "id": "mqH0RKefkehZ"
      },
      "outputs": [],
      "source": [
        "m = leafmap.Map(style=\"topo\")\n",
        "m"
      ]
    },
    {
      "cell_type": "markdown",
      "metadata": {
        "id": "81xAUB_UkehZ"
      },
      "source": [
        "![](https://i.imgur.com/0CKEFBx.png)"
      ]
    }
  ],
  "metadata": {
    "kernelspec": {
      "display_name": "Python 3 (ipykernel)",
      "language": "python",
      "name": "python3"
    },
    "language_info": {
      "codemirror_mode": {
        "name": "ipython",
        "version": 3
      },
      "file_extension": ".py",
      "mimetype": "text/x-python",
      "name": "python",
      "nbconvert_exporter": "python",
      "pygments_lexer": "ipython3",
      "version": "3.11.9"
    },
    "colab": {
      "provenance": []
    }
  },
  "nbformat": 4,
  "nbformat_minor": 0
}